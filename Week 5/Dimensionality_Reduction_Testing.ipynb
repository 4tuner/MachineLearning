{
  "nbformat": 4,
  "nbformat_minor": 0,
  "metadata": {
    "colab": {
      "provenance": []
    },
    "kernelspec": {
      "name": "python3",
      "display_name": "Python 3"
    },
    "language_info": {
      "name": "python"
    }
  },
  "cells": [
    {
      "cell_type": "markdown",
      "source": [
        "#Training Iris Classification Using Decision Tree Without Dimensionality Reduction"
      ],
      "metadata": {
        "id": "fMjtt3OLPfEU"
      }
    },
    {
      "cell_type": "code",
      "source": [
        "from sklearn import datasets\n",
        "from sklearn.model_selection import train_test_split\n",
        "\n",
        "iris = datasets.load_iris()"
      ],
      "metadata": {
        "id": "u65CrD6fMYx-"
      },
      "execution_count": 15,
      "outputs": []
    },
    {
      "cell_type": "code",
      "source": [
        "atribut = iris.data\n",
        "label = iris.target"
      ],
      "metadata": {
        "id": "5iWaFd4UM_1Y"
      },
      "execution_count": 16,
      "outputs": []
    },
    {
      "cell_type": "code",
      "source": [
        "#Melihat jumlah baris dalam dataset iris\n",
        "jumlah_baris = len(atribut)\n",
        "print('jumlah baris dalam dataset iris:', jumlah_baris)"
      ],
      "metadata": {
        "colab": {
          "base_uri": "https://localhost:8080/"
        },
        "id": "NcFau8p6NWkG",
        "outputId": "369e696c-438c-4a98-abe2-cc6fb0e595c7"
      },
      "execution_count": 17,
      "outputs": [
        {
          "output_type": "stream",
          "name": "stdout",
          "text": [
            "jumlah baris dalam dataset iris: 150\n"
          ]
        }
      ]
    },
    {
      "cell_type": "code",
      "source": [
        "X_train, X_test, y_train, y_test = train_test_split(atribut, label, test_size=0.2)"
      ],
      "metadata": {
        "id": "eX3e_EERNnwE"
      },
      "execution_count": 18,
      "outputs": []
    },
    {
      "cell_type": "code",
      "source": [
        "from sklearn import tree\n",
        "\n",
        "decision_tree = tree.DecisionTreeClassifier()\n",
        "model_tanpa_dimensionality_reduction = decision_tree.fit(X_train, y_train)\n",
        "model_tanpa_dimensionality_reduction.score(X_test, y_test)"
      ],
      "metadata": {
        "colab": {
          "base_uri": "https://localhost:8080/"
        },
        "id": "hpr6T1GaOCrc",
        "outputId": "6cb4a649-5ca1-418e-bdae-5ff05f871e46"
      },
      "execution_count": 19,
      "outputs": [
        {
          "output_type": "execute_result",
          "data": {
            "text/plain": [
              "0.9333333333333333"
            ]
          },
          "metadata": {},
          "execution_count": 19
        }
      ]
    },
    {
      "cell_type": "markdown",
      "source": [
        "#Training Iris Classification Using Decision Tree With Dimensionality Reduction"
      ],
      "metadata": {
        "id": "lMx3rHH_PreV"
      }
    },
    {
      "cell_type": "code",
      "source": [
        "from sklearn.decomposition import PCA\n",
        "\n",
        "#Buat 4 Principal Component\n",
        "pca = PCA(n_components=4)\n",
        "\n",
        "pca_attributes = pca.fit_transform(X_train)\n",
        "\n",
        "pca.explained_variance_ratio_"
      ],
      "metadata": {
        "colab": {
          "base_uri": "https://localhost:8080/"
        },
        "id": "zGYyHyYDPvAD",
        "outputId": "f0af34a3-4f27-45ff-8360-bc44112497f3"
      },
      "execution_count": 20,
      "outputs": [
        {
          "output_type": "execute_result",
          "data": {
            "text/plain": [
              "array([0.92342383, 0.05278568, 0.01798779, 0.0058027 ])"
            ]
          },
          "metadata": {},
          "execution_count": 20
        }
      ]
    },
    {
      "cell_type": "code",
      "source": [
        "#Melakukan PCA dengan 2 component\n",
        "pca = PCA(n_components=2)\n",
        "X_train_pca = pca.fit_transform(X_train)\n",
        "X_test_pca = pca.fit_transform(X_test)"
      ],
      "metadata": {
        "id": "LeOy85GdQNOA"
      },
      "execution_count": 21,
      "outputs": []
    },
    {
      "cell_type": "code",
      "source": [
        "#\n",
        "model2 = decision_tree.fit(X_train_pca, y_train)\n",
        "model2.score(X_test_pca, y_test)"
      ],
      "metadata": {
        "id": "cATKi_WxRZ9j",
        "colab": {
          "base_uri": "https://localhost:8080/"
        },
        "outputId": "40de096f-d1ab-4756-f211-bff881faf932"
      },
      "execution_count": 22,
      "outputs": [
        {
          "output_type": "execute_result",
          "data": {
            "text/plain": [
              "0.7666666666666667"
            ]
          },
          "metadata": {},
          "execution_count": 22
        }
      ]
    }
  ]
}