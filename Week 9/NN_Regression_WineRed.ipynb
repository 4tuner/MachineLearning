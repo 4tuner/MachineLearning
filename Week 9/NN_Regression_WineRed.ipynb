{
  "nbformat": 4,
  "nbformat_minor": 0,
  "metadata": {
    "colab": {
      "provenance": []
    },
    "kernelspec": {
      "name": "python3",
      "display_name": "Python 3"
    },
    "language_info": {
      "name": "python"
    }
  },
  "cells": [
    {
      "cell_type": "markdown",
      "source": [
        "**Bagus Mahardika Santoso**  \n",
        "**1103204028**"
      ],
      "metadata": {
        "id": "1pc4HpbPPBPR"
      }
    },
    {
      "cell_type": "code",
      "execution_count": 1,
      "metadata": {
        "colab": {
          "base_uri": "https://localhost:8080/"
        },
        "id": "xaKb1zNKKTkw",
        "outputId": "24e80e71-4cb4-4590-c6f6-e7a28accfc1d"
      },
      "outputs": [
        {
          "output_type": "stream",
          "name": "stdout",
          "text": [
            "Mounted at /content/drive\n"
          ]
        }
      ],
      "source": [
        "from google.colab import drive\n",
        "\n",
        "drive.mount('/content/drive')"
      ]
    },
    {
      "cell_type": "code",
      "source": [
        "# Import library yang dibutuhkan\n",
        "import numpy as np\n",
        "import pandas as pd\n",
        "import tensorflow as tf\n",
        "from sklearn.model_selection import train_test_split\n",
        "from sklearn.preprocessing import StandardScaler\n",
        "from sklearn.metrics import mean_squared_error"
      ],
      "metadata": {
        "id": "_Q4dG0aSMQ_T"
      },
      "execution_count": 2,
      "outputs": []
    },
    {
      "cell_type": "code",
      "source": [
        "# Tentukan path file dataset di Google Drive\n",
        "path ='/content/drive/My Drive/Dataset/winequality-red.csv'\n",
        "\n",
        "# Baca dataset menggunakan pandas\n",
        "df = pd.read_csv(path)"
      ],
      "metadata": {
        "id": "aDQE-4EFMSij"
      },
      "execution_count": 3,
      "outputs": []
    },
    {
      "cell_type": "code",
      "source": [
        "df.info()"
      ],
      "metadata": {
        "colab": {
          "base_uri": "https://localhost:8080/"
        },
        "id": "pubTyjbNMewD",
        "outputId": "da0610d7-0574-491f-f45e-a7e1453215c6"
      },
      "execution_count": 4,
      "outputs": [
        {
          "output_type": "stream",
          "name": "stdout",
          "text": [
            "<class 'pandas.core.frame.DataFrame'>\n",
            "RangeIndex: 1599 entries, 0 to 1598\n",
            "Data columns (total 12 columns):\n",
            " #   Column                Non-Null Count  Dtype  \n",
            "---  ------                --------------  -----  \n",
            " 0   fixed acidity         1599 non-null   float64\n",
            " 1   volatile acidity      1599 non-null   float64\n",
            " 2   citric acid           1599 non-null   float64\n",
            " 3   residual sugar        1599 non-null   float64\n",
            " 4   chlorides             1599 non-null   float64\n",
            " 5   free sulfur dioxide   1599 non-null   float64\n",
            " 6   total sulfur dioxide  1599 non-null   float64\n",
            " 7   density               1599 non-null   float64\n",
            " 8   pH                    1599 non-null   float64\n",
            " 9   sulphates             1599 non-null   float64\n",
            " 10  alcohol               1599 non-null   float64\n",
            " 11  quality               1599 non-null   int64  \n",
            "dtypes: float64(11), int64(1)\n",
            "memory usage: 150.0 KB\n"
          ]
        }
      ]
    },
    {
      "cell_type": "code",
      "source": [
        "# Pisahkan fitur dan target\n",
        "X = df[['fixed acidity', 'volatile acidity', 'citric acid', 'residual sugar', 'chlorides',\n",
        "        'free sulfur dioxide', 'total sulfur dioxide', 'density', 'pH', 'sulphates', 'alcohol']]\n",
        "y = df['quality']"
      ],
      "metadata": {
        "id": "Zmt9pRAgMeIW"
      },
      "execution_count": 7,
      "outputs": []
    },
    {
      "cell_type": "code",
      "source": [
        "# Pisahkan data menjadi data latih dan data uji\n",
        "X_train, X_test, y_train, y_test = train_test_split(X, y, test_size=0.2, random_state=42)"
      ],
      "metadata": {
        "id": "HUn_d6HsNs63"
      },
      "execution_count": 8,
      "outputs": []
    },
    {
      "cell_type": "code",
      "source": [
        "# Normalisasi fitur menggunakan StandardScaler\n",
        "scaler = StandardScaler()\n",
        "X_train_scaled = scaler.fit_transform(X_train)\n",
        "X_test_scaled = scaler.transform(X_test)"
      ],
      "metadata": {
        "id": "29ewFt0zNzBm"
      },
      "execution_count": 9,
      "outputs": []
    },
    {
      "cell_type": "code",
      "source": [
        "# Bangun model Neural Network\n",
        "model = tf.keras.Sequential([\n",
        "    tf.keras.layers.Dense(units=64, activation='relu', input_shape=(X_train.shape[1],)),\n",
        "    tf.keras.layers.Dense(units=32, activation='relu'),\n",
        "    tf.keras.layers.Dense(units=1)\n",
        "])"
      ],
      "metadata": {
        "id": "GQ2CnZ7lN2ny"
      },
      "execution_count": 10,
      "outputs": []
    },
    {
      "cell_type": "code",
      "source": [
        "# Compile model\n",
        "model.compile(optimizer='adam', loss='mean_squared_error')"
      ],
      "metadata": {
        "id": "47ncqvGWN7uH"
      },
      "execution_count": 11,
      "outputs": []
    },
    {
      "cell_type": "code",
      "source": [
        "# Latih model\n",
        "model.fit(X_train_scaled, y_train, epochs=50, batch_size=32, validation_data=(X_test_scaled, y_test))"
      ],
      "metadata": {
        "colab": {
          "base_uri": "https://localhost:8080/"
        },
        "id": "tyH_i0PZN-S-",
        "outputId": "cdeb1b60-08bd-4df0-cc68-efce31f3b2f6"
      },
      "execution_count": 12,
      "outputs": [
        {
          "output_type": "stream",
          "name": "stdout",
          "text": [
            "Epoch 1/50\n",
            "40/40 [==============================] - 6s 17ms/step - loss: 20.4947 - val_loss: 8.1769\n",
            "Epoch 2/50\n",
            "40/40 [==============================] - 0s 8ms/step - loss: 4.3733 - val_loss: 3.0546\n",
            "Epoch 3/50\n",
            "40/40 [==============================] - 0s 8ms/step - loss: 2.5768 - val_loss: 2.2196\n",
            "Epoch 4/50\n",
            "40/40 [==============================] - 0s 8ms/step - loss: 1.9885 - val_loss: 1.8691\n",
            "Epoch 5/50\n",
            "40/40 [==============================] - 0s 8ms/step - loss: 1.7101 - val_loss: 1.6392\n",
            "Epoch 6/50\n",
            "40/40 [==============================] - 0s 9ms/step - loss: 1.5088 - val_loss: 1.4753\n",
            "Epoch 7/50\n",
            "40/40 [==============================] - 0s 5ms/step - loss: 1.3683 - val_loss: 1.3303\n",
            "Epoch 8/50\n",
            "40/40 [==============================] - 0s 7ms/step - loss: 1.2270 - val_loss: 1.2097\n",
            "Epoch 9/50\n",
            "40/40 [==============================] - 0s 6ms/step - loss: 1.1156 - val_loss: 1.0876\n",
            "Epoch 10/50\n",
            "40/40 [==============================] - 0s 6ms/step - loss: 1.0128 - val_loss: 0.9953\n",
            "Epoch 11/50\n",
            "40/40 [==============================] - 0s 5ms/step - loss: 0.9200 - val_loss: 0.9032\n",
            "Epoch 12/50\n",
            "40/40 [==============================] - 0s 10ms/step - loss: 0.8407 - val_loss: 0.8316\n",
            "Epoch 13/50\n",
            "40/40 [==============================] - 0s 5ms/step - loss: 0.7602 - val_loss: 0.7711\n",
            "Epoch 14/50\n",
            "40/40 [==============================] - 0s 6ms/step - loss: 0.7052 - val_loss: 0.7054\n",
            "Epoch 15/50\n",
            "40/40 [==============================] - 0s 8ms/step - loss: 0.6539 - val_loss: 0.6501\n",
            "Epoch 16/50\n",
            "40/40 [==============================] - 0s 7ms/step - loss: 0.6035 - val_loss: 0.6077\n",
            "Epoch 17/50\n",
            "40/40 [==============================] - 0s 8ms/step - loss: 0.5577 - val_loss: 0.5766\n",
            "Epoch 18/50\n",
            "40/40 [==============================] - 0s 8ms/step - loss: 0.5435 - val_loss: 0.5581\n",
            "Epoch 19/50\n",
            "40/40 [==============================] - 0s 7ms/step - loss: 0.4975 - val_loss: 0.5200\n",
            "Epoch 20/50\n",
            "40/40 [==============================] - 0s 5ms/step - loss: 0.4747 - val_loss: 0.4915\n",
            "Epoch 21/50\n",
            "40/40 [==============================] - 0s 4ms/step - loss: 0.4685 - val_loss: 0.5022\n",
            "Epoch 22/50\n",
            "40/40 [==============================] - 0s 6ms/step - loss: 0.4428 - val_loss: 0.4548\n",
            "Epoch 23/50\n",
            "40/40 [==============================] - 0s 6ms/step - loss: 0.4321 - val_loss: 0.4605\n",
            "Epoch 24/50\n",
            "40/40 [==============================] - 0s 7ms/step - loss: 0.4169 - val_loss: 0.4410\n",
            "Epoch 25/50\n",
            "40/40 [==============================] - 0s 8ms/step - loss: 0.4154 - val_loss: 0.4363\n",
            "Epoch 26/50\n",
            "40/40 [==============================] - 1s 13ms/step - loss: 0.3989 - val_loss: 0.4198\n",
            "Epoch 27/50\n",
            "40/40 [==============================] - 0s 6ms/step - loss: 0.3887 - val_loss: 0.4184\n",
            "Epoch 28/50\n",
            "40/40 [==============================] - 1s 13ms/step - loss: 0.3843 - val_loss: 0.4108\n",
            "Epoch 29/50\n",
            "40/40 [==============================] - 0s 6ms/step - loss: 0.3805 - val_loss: 0.4272\n",
            "Epoch 30/50\n",
            "40/40 [==============================] - 0s 6ms/step - loss: 0.3738 - val_loss: 0.4058\n",
            "Epoch 31/50\n",
            "40/40 [==============================] - 0s 10ms/step - loss: 0.3699 - val_loss: 0.4007\n",
            "Epoch 32/50\n",
            "40/40 [==============================] - 0s 9ms/step - loss: 0.3630 - val_loss: 0.3933\n",
            "Epoch 33/50\n",
            "40/40 [==============================] - 0s 6ms/step - loss: 0.3631 - val_loss: 0.3973\n",
            "Epoch 34/50\n",
            "40/40 [==============================] - 0s 4ms/step - loss: 0.3541 - val_loss: 0.3983\n",
            "Epoch 35/50\n",
            "40/40 [==============================] - 0s 5ms/step - loss: 0.3518 - val_loss: 0.3976\n",
            "Epoch 36/50\n",
            "40/40 [==============================] - 0s 5ms/step - loss: 0.3547 - val_loss: 0.3878\n",
            "Epoch 37/50\n",
            "40/40 [==============================] - 0s 4ms/step - loss: 0.3445 - val_loss: 0.3897\n",
            "Epoch 38/50\n",
            "40/40 [==============================] - 0s 4ms/step - loss: 0.3477 - val_loss: 0.3993\n",
            "Epoch 39/50\n",
            "40/40 [==============================] - 0s 4ms/step - loss: 0.3408 - val_loss: 0.3954\n",
            "Epoch 40/50\n",
            "40/40 [==============================] - 0s 5ms/step - loss: 0.3432 - val_loss: 0.3835\n",
            "Epoch 41/50\n",
            "40/40 [==============================] - 0s 5ms/step - loss: 0.3292 - val_loss: 0.3899\n",
            "Epoch 42/50\n",
            "40/40 [==============================] - 0s 6ms/step - loss: 0.3330 - val_loss: 0.3807\n",
            "Epoch 43/50\n",
            "40/40 [==============================] - 0s 5ms/step - loss: 0.3275 - val_loss: 0.3829\n",
            "Epoch 44/50\n",
            "40/40 [==============================] - 0s 5ms/step - loss: 0.3270 - val_loss: 0.3923\n",
            "Epoch 45/50\n",
            "40/40 [==============================] - 0s 6ms/step - loss: 0.3250 - val_loss: 0.3850\n",
            "Epoch 46/50\n",
            "40/40 [==============================] - 0s 5ms/step - loss: 0.3177 - val_loss: 0.3903\n",
            "Epoch 47/50\n",
            "40/40 [==============================] - 0s 5ms/step - loss: 0.3151 - val_loss: 0.4017\n",
            "Epoch 48/50\n",
            "40/40 [==============================] - 0s 5ms/step - loss: 0.3227 - val_loss: 0.3887\n",
            "Epoch 49/50\n",
            "40/40 [==============================] - 0s 5ms/step - loss: 0.3116 - val_loss: 0.3751\n",
            "Epoch 50/50\n",
            "40/40 [==============================] - 0s 5ms/step - loss: 0.3157 - val_loss: 0.3792\n"
          ]
        },
        {
          "output_type": "execute_result",
          "data": {
            "text/plain": [
              "<keras.src.callbacks.History at 0x7b2d905fefb0>"
            ]
          },
          "metadata": {},
          "execution_count": 12
        }
      ]
    },
    {
      "cell_type": "code",
      "source": [
        "# Evaluasi model pada data uji\n",
        "loss = model.evaluate(X_test_scaled, y_test)\n",
        "print(f'Loss on test set: {loss}')"
      ],
      "metadata": {
        "colab": {
          "base_uri": "https://localhost:8080/"
        },
        "id": "Sd5AMPM3OdxN",
        "outputId": "c871bd90-2526-4bef-9537-5923acc30240"
      },
      "execution_count": 13,
      "outputs": [
        {
          "output_type": "stream",
          "name": "stdout",
          "text": [
            "10/10 [==============================] - 0s 16ms/step - loss: 0.3792\n",
            "Loss on test set: 0.379241406917572\n"
          ]
        }
      ]
    },
    {
      "cell_type": "code",
      "source": [
        "# Prediksi menggunakan model\n",
        "predictions = model.predict(X_test_scaled)"
      ],
      "metadata": {
        "colab": {
          "base_uri": "https://localhost:8080/"
        },
        "id": "qcs9Uay0OoUU",
        "outputId": "da7df8c3-3694-4ad6-9732-fbb4a04e4eef"
      },
      "execution_count": 14,
      "outputs": [
        {
          "output_type": "stream",
          "name": "stdout",
          "text": [
            "10/10 [==============================] - 0s 2ms/step\n"
          ]
        }
      ]
    },
    {
      "cell_type": "code",
      "source": [
        "# Evaluasi performa model dengan menggunakan MSE\n",
        "mse = mean_squared_error(y_test, predictions)\n",
        "print(f'Mean Squared Error: {mse}')"
      ],
      "metadata": {
        "colab": {
          "base_uri": "https://localhost:8080/"
        },
        "id": "7LG-J6EoOqvi",
        "outputId": "dbb06ee1-f19e-4663-dfe2-d2525f38970d"
      },
      "execution_count": 15,
      "outputs": [
        {
          "output_type": "stream",
          "name": "stdout",
          "text": [
            "Mean Squared Error: 0.3792414345994374\n"
          ]
        }
      ]
    }
  ]
}